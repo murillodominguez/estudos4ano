{
 "cells": [
  {
   "attachments": {},
   "cell_type": "markdown",
   "metadata": {},
   "source": [
    "Atividade 1"
   ]
  },
  {
   "cell_type": "code",
   "execution_count": 3,
   "metadata": {},
   "outputs": [
    {
     "name": "stdout",
     "output_type": "stream",
     "text": [
      "5.0 é igual a 5.0\n"
     ]
    }
   ],
   "source": [
    "def smaller_value(a,b):\n",
    "    if(a==b):\n",
    "        return print(a,'é igual a',b)\n",
    "    if(a<b):\n",
    "        menor = a\n",
    "    if(a>b):\n",
    "        menor = b\n",
    "    return print('O menor número entre {a} e {b} é'.format(a=a, b=b),menor)\n",
    "num1 = float(input('Primeiro número: '))\n",
    "num2 = float(input('Segundo número: '))\n",
    "\n",
    "smaller_value(num1,num2)"
   ]
  },
  {
   "attachments": {},
   "cell_type": "markdown",
   "metadata": {},
   "source": [
    "Atividade 2"
   ]
  },
  {
   "cell_type": "code",
   "execution_count": 9,
   "metadata": {},
   "outputs": [
    {
     "name": "stdout",
     "output_type": "stream",
     "text": [
      "0.0 é nulo\n"
     ]
    }
   ],
   "source": [
    "def is_p_or_n(n):\n",
    "    if(n>0):\n",
    "        return print(n,'é positivo.')\n",
    "    if(n<0):\n",
    "        return print(n,'é negativo')\n",
    "    if(n==0):\n",
    "        return print(n,'é nulo')\n",
    "\n",
    "num = float(input('Informe um número: '))\n",
    "\n",
    "is_p_or_n(num)"
   ]
  },
  {
   "attachments": {},
   "cell_type": "markdown",
   "metadata": {},
   "source": [
    "Atividade 3"
   ]
  },
  {
   "cell_type": "code",
   "execution_count": 16,
   "metadata": {},
   "outputs": [
    {
     "data": {
      "text/plain": [
       "True"
      ]
     },
     "execution_count": 16,
     "metadata": {},
     "output_type": "execute_result"
    }
   ],
   "source": [
    "def sum_is_bigger(a,b,limite):\n",
    "    sum = a+b\n",
    "    if(sum > limite):\n",
    "        return True\n",
    "    else:\n",
    "        return False\n",
    "\n",
    "lim = float(input('Informe um limite: '))\n",
    "num1 = float(input('Informe um número pra soma: '))\n",
    "num2 = float(input('Informe outro número para a soma: '))\n",
    "\n",
    "sum_is_bigger(num1,num2,lim)"
   ]
  },
  {
   "attachments": {},
   "cell_type": "markdown",
   "metadata": {},
   "source": [
    "Atividade 4"
   ]
  },
  {
   "cell_type": "code",
   "execution_count": 27,
   "metadata": {},
   "outputs": [
    {
     "name": "stdout",
     "output_type": "stream",
     "text": [
      "FizzBuzz\n"
     ]
    }
   ],
   "source": [
    "def fizz_buzz(n):\n",
    "    if(not(n%3==0 or n%5==0)):\n",
    "        return print(n)\n",
    "    if(n%3==0 and n%5==0):\n",
    "        return print('FizzBuzz')\n",
    "    if(n%3==0):\n",
    "        return print('Fizz')\n",
    "    if(n%5==0):\n",
    "        return print('Buzz')\n",
    "\n",
    "num = float(input('Insira um número para o FizzBuzz: '))\n",
    "\n",
    "fizz_buzz(num)"
   ]
  },
  {
   "attachments": {},
   "cell_type": "markdown",
   "metadata": {},
   "source": [
    "Atividade 5"
   ]
  },
  {
   "cell_type": "code",
   "execution_count": 32,
   "metadata": {},
   "outputs": [
    {
     "name": "stdout",
     "output_type": "stream",
     "text": [
      "1\n",
      "2\n",
      "3\n",
      "4\n",
      "5\n",
      "6\n",
      "pare\n"
     ]
    },
    {
     "data": {
      "text/plain": [
       "False"
      ]
     },
     "execution_count": 32,
     "metadata": {},
     "output_type": "execute_result"
    }
   ],
   "source": [
    "def in_list(nlist, n):\n",
    "    if(n in nlist):\n",
    "        return True\n",
    "    else:\n",
    "        return False\n",
    "new = \"\"\n",
    "numlist = list()\n",
    "while(new!='pare'):\n",
    "    new = input('Informe um número para entrar na lista (\"pare\" para parar): ')\n",
    "    numlist.append(new)\n",
    "\n",
    "n = input('Informe um número para verificar se está dentro da lista: ')\n",
    "\n",
    "for x in numlist:\n",
    "    print(x)\n",
    "\n",
    "in_list(numlist,n)"
   ]
  },
  {
   "attachments": {},
   "cell_type": "markdown",
   "metadata": {},
   "source": [
    "Atividade 6"
   ]
  },
  {
   "cell_type": "code",
   "execution_count": 42,
   "metadata": {},
   "outputs": [
    {
     "name": "stdout",
     "output_type": "stream",
     "text": [
      "21\n"
     ]
    }
   ],
   "source": [
    "def sum_lower_equal_than_n(n):\n",
    "    if(n==0):\n",
    "        return 0\n",
    "    else:\n",
    "        return n + sum_lower_equal_than_n(n-1)\n",
    "\n",
    "n = int(input(\"Informe um número inteiro positivo: \"))\n",
    "\n",
    "\n",
    "\n",
    "soma = sum_lower_equal_than_n(n)\n",
    "print(soma)"
   ]
  }
 ],
 "metadata": {
  "kernelspec": {
   "display_name": "Python 3 (ipykernel)",
   "language": "python",
   "name": "python3"
  },
  "language_info": {
   "codemirror_mode": {
    "name": "ipython",
    "version": 3
   },
   "file_extension": ".py",
   "mimetype": "text/x-python",
   "name": "python",
   "nbconvert_exporter": "python",
   "pygments_lexer": "ipython3",
   "version": "3.10.12"
  },
  "orig_nbformat": 4,
  "vscode": {
   "interpreter": {
    "hash": "916dbcbb3f70747c44a77c7bcd40155683ae19c65e1c03b4aa3499c5328201f1"
   }
  }
 },
 "nbformat": 4,
 "nbformat_minor": 2
}
